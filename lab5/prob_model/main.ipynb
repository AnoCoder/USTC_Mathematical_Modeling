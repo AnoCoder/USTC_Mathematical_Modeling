{
 "cells": [
  {
   "cell_type": "code",
   "execution_count": 12,
   "metadata": {},
   "outputs": [
    {
     "data": {
      "image/png": "[encoded data removed]",
      "text/plain": [
       "<Figure size 432x288 with 2 Axes>"
      ]
     },
     "metadata": {
      "needs_background": "light"
     },
     "output_type": "display_data"
    }
   ],
   "source": [
    "from linear_equations import *\n",
    "n = 6\n",
    "D = get_matrix_D(n)\n",
    "t = get_vector_t()\n",
    "vector_one = np.ones(n*n)\n",
    "t_ = t - np.dot(D, vector_one)/320/40\n",
    "A = (1/2880 - 1/320) * D\n",
    "# 最小二乘解出x\n",
    "x1 = np.linalg.lstsq(A, t, rcond=None)[0]\n",
    "for i in range(n*n):\n",
    "    if abs(x1[i]) >= 0.5*(max(abs(x1))-min(abs(x1))):\n",
    "        x1[i] = 1\n",
    "    else:\n",
    "        x1[i] = 0\n",
    "\n",
    "import matplotlib.pyplot as plt\n",
    "import numpy as np\n",
    "\n",
    "# x1 = abs(x1)\n",
    "\n",
    "plt.imshow(x1.reshape(n,n), cmap='hot', interpolation='nearest')\n",
    "plt.colorbar()\n",
    "plt.show()"
   ]
  },
  {
   "cell_type": "code",
   "execution_count": 4,
   "metadata": {},
   "outputs": [
    {
     "data": {
      "image/png": "[encoded data removed]",
      "text/plain": [
       "<Figure size 432x288 with 1 Axes>"
      ]
     },
     "metadata": {
      "needs_background": "light"
     },
     "output_type": "display_data"
    }
   ],
   "source": [
    "import prob_alg\n",
    "import matplotlib.pyplot as plt\n",
    "import numpy as np\n",
    "\n",
    "# 考虑 m % b == 0, 且 6 // b == 0\n",
    "n = 12\n",
    "b = 3\n",
    "P = prob_alg.get_P(n, b)\n",
    "P = P.reshape(n, n)\n",
    "\n",
    "# plt.imshow(P>P.mean()+0.1, cmap='hot', interpolation='nearest')\n",
    "plt.imshow(P, cmap='hot', interpolation='nearest')\n",
    "# plt.colorbar()\n",
    "import os \n",
    "if not os.path.exists('../image'):\n",
    "    os.mkdir('../image')\n",
    "plt.savefig(f'../image/prob_{n}_{b}.png', bbox_inches='tight', pad_inches=0)"
   ]
  },
  {
   "cell_type": "code",
   "execution_count": 2,
   "metadata": {},
   "outputs": [
    {
     "name": "stdout",
     "output_type": "stream",
     "text": [
      "迭代次数: 9\n"
     ]
    },
    {
     "data": {
      "image/png": "[encoded data removed]",
      "text/plain": [
       "<Figure size 432x288 with 1 Axes>"
      ]
     },
     "metadata": {
      "needs_background": "light"
     },
     "output_type": "display_data"
    }
   ],
   "source": [
    "import prob_alg\n",
    "import matplotlib.pyplot as plt\n",
    "import numpy as np\n",
    "\n",
    "# 考虑 m % b == 0, 且 6 // b == 0\n",
    "n = 6\n",
    "b = 3\n",
    "_, P0, P = prob_alg.get_P_iter(n,b, 1e-10)\n",
    "P = P.reshape(n, n)\n",
    "\n",
    "def top_k_elements(arr, k):\n",
    "    flattened_arr = arr.flatten()  # 将2维数组展平为1维数组\n",
    "    sorted_indices = np.argsort(flattened_arr)  # 对展平后的数组进行排序，并获取排序后的索引\n",
    "\n",
    "    result = np.zeros_like(flattened_arr)  # 创建一个与展平数组大小相同的全零数组\n",
    "    result[sorted_indices[-k:]] = 1  # 将排序后的最大的k个元素设置为1\n",
    "\n",
    "    result = result.reshape(arr.shape)  # 将1维数组重新变为2维数组\n",
    "    return result\n",
    "\n",
    "print(f\"迭代次数: {_}\")\n",
    "plt.imshow(P, cmap='hot', interpolation='nearest')\n",
    "# plt.colorbar()\n",
    "plt.savefig(f'../image/prob_iter_{n}_{b}.png', bbox_inches='tight', pad_inches=0)\n"
   ]
  },
  {
   "cell_type": "code",
   "execution_count": 3,
   "metadata": {},
   "outputs": [
    {
     "data": {
      "text/plain": [
       "9.510890788666828"
      ]
     },
     "execution_count": 3,
     "metadata": {},
     "output_type": "execute_result"
    }
   ],
   "source": [
    "import prob_alg\n",
    "prob_alg.get_line_red_all().mean() * 36"
   ]
  },
  {
   "cell_type": "code",
   "execution_count": 9,
   "metadata": {},
   "outputs": [
    {
     "data": {
      "image/png": "[encoded data removed]",
      "text/plain": [
       "<Figure size 432x288 with 1 Axes>"
      ]
     },
     "metadata": {
      "needs_background": "light"
     },
     "output_type": "display_data"
    },
    {
     "data": {
      "image/png": "[encoded data removed]",
      "text/plain": [
       "<Figure size 432x288 with 1 Axes>"
      ]
     },
     "metadata": {
      "needs_background": "light"
     },
     "output_type": "display_data"
    }
   ],
   "source": [
    "import numpy as np\n",
    "import matplotlib.pyplot as plt\n",
    "\n",
    "def filtered_backprojection(sinogram, angles):\n",
    "    num_angles = len(angles)\n",
    "    num_detectors = sinogram.shape[0]\n",
    "    num_pixels = sinogram.shape[1]\n",
    "    \n",
    "    reconstructed_image = np.zeros((num_pixels, num_pixels))\n",
    "    center = num_pixels // 2\n",
    "    \n",
    "    for angle_idx in range(num_angles):\n",
    "        angle = angles[angle_idx]\n",
    "        projection = sinogram[:, angle_idx]\n",
    "        \n",
    "        for detector_idx in range(num_detectors):\n",
    "            detector_pos = detector_idx - num_detectors // 2\n",
    "            theta = np.deg2rad(angle)\n",
    "            x = center + detector_pos * np.sin(theta)\n",
    "            y = center + detector_pos * np.cos(theta)\n",
    "            \n",
    "            for pixel_idx in range(num_pixels):\n",
    "                pixel_pos = pixel_idx - center\n",
    "                r = np.sqrt((pixel_pos - x)**2 + (center - y)**2)\n",
    "                if r > 0:\n",
    "                    weight = 1 / r\n",
    "                    reconstructed_image[pixel_idx, pixel_idx] += weight * projection[detector_idx]\n",
    "    \n",
    "    return reconstructed_image\n",
    "\n",
    "# 示例数据\n",
    "num_pixels = 36\n",
    "num_detectors = 180\n",
    "num_angles = 4\n",
    "angles = np.linspace(0, 180, num_angles, endpoint=False)\n",
    "sinogram = np.random.rand(num_detectors, num_angles)\n",
    "plt.imshow(sinogram, cmap='gray')\n",
    "plt.axis('off')\n",
    "plt.show()\n",
    "\n",
    "# 使用滤波反投影法重建图像\n",
    "reconstructed_image = filtered_backprojection(sinogram, angles)\n",
    "\n",
    "# 显示重建结果\n",
    "plt.imshow(reconstructed_image, cmap='gray')\n",
    "plt.axis('off')\n",
    "plt.show()\n",
    "\n",
    "# (ref)[https://blog.csdn.net/qq_33414271/article/details/78128813]\n"
   ]
  }
 ],
 "metadata": {
  "kernelspec": {
   "display_name": "Python 3",
   "language": "python",
   "name": "python3"
  },
  "language_info": {
   "codemirror_mode": {
    "name": "ipython",
    "version": 3
   },
   "file_extension": ".py",
   "mimetype": "text/x-python",
   "name": "python",
   "nbconvert_exporter": "python",
   "pygments_lexer": "ipython3",
   "version": "3.9.6"
  },
  "orig_nbformat": 4
 },
 "nbformat": 4,
 "nbformat_minor": 2
}
